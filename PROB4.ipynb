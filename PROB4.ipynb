{
 "cells": [
  {
   "cell_type": "code",
   "execution_count": 52,
   "metadata": {},
   "outputs": [],
   "source": [
    "from scipy.io import arff\n",
    "import pandas as pd\n",
    "import numpy as np\n",
    "from sklearn.model_selection import train_test_split\n",
    "from scipy.stats import mode"
   ]
  },
  {
   "cell_type": "code",
   "execution_count": 53,
   "metadata": {},
   "outputs": [],
   "source": [
    "def load_mnist_data(input_file):\n",
    "    data, meta = arff.loadarff(input_file)\n",
    "    df = pd.DataFrame(data)\n",
    "    df[\"class\"] = df.apply(lambda x: x[\"class\"].decode(\"utf-8\"), axis=1)\n",
    "    for col in df.columns[:-1]:\n",
    "        df[col] = df[col].apply(lambda x: x / 255.0)\n",
    "    return df[df.columns[:-1]].to_numpy(), df[\"class\"].to_numpy()"
   ]
  },
  {
   "cell_type": "code",
   "execution_count": 54,
   "metadata": {},
   "outputs": [],
   "source": [
    "# import numpy as np\n",
    "\n",
    "# def pairwise_distance(mat):\n",
    "#     n = len(mat)\n",
    "#     dmat = np.zeros((n, n))\n",
    "#     for i in range(n):\n",
    "#         for j in range(i, n):\n",
    "#             if j != i:\n",
    "#                 dmat[i][j] = np.linalg.norm(mat[i] - mat[j])\n",
    "#                 dmat[j][i] = dmat[i][j]  # Since the distance matrix is symmetric\n",
    "#     return dmat\n",
    "\n",
    "\n",
    "def euclidean(vec1, vec2):\n",
    "    return np.sqrt(np.dot(vec1, vec1) - 2 * np.dot(vec1, vec2) + np.dot(vec2, vec2))\n",
    "\n",
    "def pairwise_distance(mat):\n",
    "    n = len(mat)\n",
    "    dmat = np.zeros((n, n))\n",
    "    for i in range(n):\n",
    "        j = 0\n",
    "        while j <= i:\n",
    "            if j != i:\n",
    "                dmat[i][j] = euclidean(mat[i], mat[j])\n",
    "            j += 1\n",
    "    return dmat + dmat.T"
   ]
  },
  {
   "cell_type": "code",
   "execution_count": 55,
   "metadata": {},
   "outputs": [],
   "source": [
    "X, y = load_mnist_data(\"./datasets/mnist_784.arff\")"
   ]
  },
  {
   "cell_type": "code",
   "execution_count": 56,
   "metadata": {},
   "outputs": [
    {
     "data": {
      "text/plain": [
       "(16000, 784)"
      ]
     },
     "execution_count": 56,
     "metadata": {},
     "output_type": "execute_result"
    }
   ],
   "source": [
    "X_train, X_test, y_train, y_test = train_test_split(X[:20000], y[:20000], test_size=0.2, stratify=y[:20000], random_state=42)\n",
    "X_train.shape"
   ]
  },
  {
   "cell_type": "code",
   "execution_count": 45,
   "metadata": {},
   "outputs": [
    {
     "data": {
      "text/plain": [
       "array([[ 0.        ,  9.36122213, 10.87509456, ..., 10.15739646,\n",
       "         9.3411419 , 10.54320344],\n",
       "       [ 9.36122213,  0.        , 11.36836434, ..., 10.64657927,\n",
       "        10.08647272, 11.48242326],\n",
       "       [10.87509456, 11.36836434,  0.        , ..., 11.09412458,\n",
       "         8.82878101, 10.4646212 ],\n",
       "       ...,\n",
       "       [10.15739646, 10.64657927, 11.09412458, ...,  0.        ,\n",
       "        10.25524087,  8.97626586],\n",
       "       [ 9.3411419 , 10.08647272,  8.82878101, ..., 10.25524087,\n",
       "         0.        ,  8.78094035],\n",
       "       [10.54320344, 11.48242326, 10.4646212 , ...,  8.97626586,\n",
       "         8.78094035,  0.        ]])"
      ]
     },
     "execution_count": 45,
     "metadata": {},
     "output_type": "execute_result"
    }
   ],
   "source": [
    "pairwise_distance(X[:5000])"
   ]
  },
  {
   "cell_type": "code",
   "execution_count": 57,
   "metadata": {},
   "outputs": [
    {
     "data": {
      "text/plain": [
       "array([[ 0.        ,  9.9291353 , 11.38291144, ..., 10.01201508,\n",
       "        10.55961855,  9.92242343],\n",
       "       [ 9.9291353 ,  0.        ,  9.61035741, ...,  9.20687104,\n",
       "        11.66160642,  8.49849796],\n",
       "       [11.38291144,  9.61035741,  0.        , ..., 10.0875186 ,\n",
       "        12.84913017,  9.2051003 ],\n",
       "       ...,\n",
       "       [10.01201508,  9.20687104, 10.0875186 , ...,  0.        ,\n",
       "        11.16396066,  9.55097697],\n",
       "       [10.55961855, 11.66160642, 12.84913017, ..., 11.16396066,\n",
       "         0.        , 11.59539011],\n",
       "       [ 9.92242343,  8.49849796,  9.2051003 , ...,  9.55097697,\n",
       "        11.59539011,  0.        ]])"
      ]
     },
     "execution_count": 57,
     "metadata": {},
     "output_type": "execute_result"
    }
   ],
   "source": [
    "# Computing pairwise distance\n",
    "from sklearn.metrics.pairwise import euclidean_distances\n",
    "dist_mat = euclidean_distances(X_train)\n",
    "dist_mat"
   ]
  },
  {
   "cell_type": "code",
   "execution_count": 73,
   "metadata": {},
   "outputs": [
    {
     "name": "stdout",
     "output_type": "stream",
     "text": [
      "Accuracy: 0.9657857142857142\n"
     ]
    }
   ],
   "source": [
    "from sklearn.datasets import fetch_openml\n",
    "from sklearn.model_selection import train_test_split\n",
    "from sklearn.neighbors import KNeighborsClassifier\n",
    "from sklearn.metrics import accuracy_score\n",
    "import numpy as np\n",
    "\n",
    "# Load MNIST dataset\n",
    "mnist = fetch_openml('mnist_784', version=1)\n",
    "X, y = mnist[\"data\"], mnist[\"target\"]\n",
    "\n",
    "# Convert labels to integers\n",
    "y = y.astype(int)  # Corrected line\n",
    "\n",
    "# Normalize the pixel values\n",
    "X = X / 255.0\n",
    "\n",
    "# Split the dataset into a training set and a test set\n",
    "X_train, X_test, y_train, y_test = train_test_split(X, y, test_size=0.2, random_state=42)\n",
    "\n",
    "# Initialize the KNN classifier with k=10\n",
    "knn_clf = KNeighborsClassifier(n_neighbors=10)\n",
    "\n",
    "# Fit the model\n",
    "knn_clf.fit(X_train, y_train)\n",
    "\n",
    "# Make predictions on the test set\n",
    "y_pred = knn_clf.predict(X_test)\n",
    "\n",
    "# Calculate the accuracy\n",
    "accuracy = accuracy_score(y_test, y_pred)\n",
    "print(\"Accuracy:\", accuracy)\n"
   ]
  }
 ],
 "metadata": {
  "kernelspec": {
   "display_name": "Python 3",
   "language": "python",
   "name": "python3"
  },
  "language_info": {
   "codemirror_mode": {
    "name": "ipython",
    "version": 3
   },
   "file_extension": ".py",
   "mimetype": "text/x-python",
   "name": "python",
   "nbconvert_exporter": "python",
   "pygments_lexer": "ipython3",
   "version": "3.11.5"
  }
 },
 "nbformat": 4,
 "nbformat_minor": 2
}

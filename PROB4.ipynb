{
 "cells": [
  {
   "cell_type": "code",
   "execution_count": 52,
   "metadata": {},
   "outputs": [],
   "source": [
    "from scipy.io import arff\n",
    "import pandas as pd\n",
    "import numpy as np\n",
    "from sklearn.model_selection import train_test_split\n",
    "from scipy.stats import mode"
   ]
  },
  {
   "cell_type": "code",
   "execution_count": 53,
   "metadata": {},
   "outputs": [],
   "source": [
    "def load_mnist_data(input_file):\n",
    "    data, meta = arff.loadarff(input_file)\n",
    "    df = pd.DataFrame(data)\n",
    "    df[\"class\"] = df.apply(lambda x: x[\"class\"].decode(\"utf-8\"), axis=1)\n",
    "    for col in df.columns[:-1]:\n",
    "        df[col] = df[col].apply(lambda x: x / 255.0)\n",
    "    return df[df.columns[:-1]].to_numpy(), df[\"class\"].to_numpy()"
   ]
  },
  {
   "cell_type": "code",
   "execution_count": 54,
   "metadata": {},
   "outputs": [],
   "source": [
    "# import numpy as np\n",
    "\n",
    "# def pairwise_distance(mat):\n",
    "#     n = len(mat)\n",
    "#     dmat = np.zeros((n, n))\n",
    "#     for i in range(n):\n",
    "#         for j in range(i, n):\n",
    "#             if j != i:\n",
    "#                 dmat[i][j] = np.linalg.norm(mat[i] - mat[j])\n",
    "#                 dmat[j][i] = dmat[i][j]  # Since the distance matrix is symmetric\n",
    "#     return dmat\n",
    "\n",
    "\n",
    "def euclidean(vec1, vec2):\n",
    "    return np.sqrt(np.dot(vec1, vec1) - 2 * np.dot(vec1, vec2) + np.dot(vec2, vec2))\n",
    "\n",
    "def pairwise_distance(mat):\n",
    "    n = len(mat)\n",
    "    dmat = np.zeros((n, n))\n",
    "    for i in range(n):\n",
    "        j = 0\n",
    "        while j <= i:\n",
    "            if j != i:\n",
    "                dmat[i][j] = euclidean(mat[i], mat[j])\n",
    "            j += 1\n",
    "    return dmat + dmat.T"
   ]
  },
  {
   "cell_type": "code",
   "execution_count": 55,
   "metadata": {},
   "outputs": [],
   "source": [
    "X, y = load_mnist_data(\"./datasets/mnist_784.arff\")"
   ]
  },
  {
   "cell_type": "code",
   "execution_count": 56,
   "metadata": {},
   "outputs": [
    {
     "data": {
      "text/plain": [
       "(16000, 784)"
      ]
     },
     "execution_count": 56,
     "metadata": {},
     "output_type": "execute_result"
    }
   ],
   "source": [
    "X_train, X_test, y_train, y_test = train_test_split(X[:20000], y[:20000], test_size=0.2, stratify=y[:20000], random_state=42)\n",
    "X_train.shape"
   ]
  },
  {
   "cell_type": "code",
   "execution_count": 45,
   "metadata": {},
   "outputs": [
    {
     "data": {
      "text/plain": [
       "array([[ 0.        ,  9.36122213, 10.87509456, ..., 10.15739646,\n",
       "         9.3411419 , 10.54320344],\n",
       "       [ 9.36122213,  0.        , 11.36836434, ..., 10.64657927,\n",
       "        10.08647272, 11.48242326],\n",
       "       [10.87509456, 11.36836434,  0.        , ..., 11.09412458,\n",
       "         8.82878101, 10.4646212 ],\n",
       "       ...,\n",
       "       [10.15739646, 10.64657927, 11.09412458, ...,  0.        ,\n",
       "        10.25524087,  8.97626586],\n",
       "       [ 9.3411419 , 10.08647272,  8.82878101, ..., 10.25524087,\n",
       "         0.        ,  8.78094035],\n",
       "       [10.54320344, 11.48242326, 10.4646212 , ...,  8.97626586,\n",
       "         8.78094035,  0.        ]])"
      ]
     },
     "execution_count": 45,
     "metadata": {},
     "output_type": "execute_result"
    }
   ],
   "source": [
    "pairwise_distance(X[:5000])"
   ]
  },
  {
   "cell_type": "code",
   "execution_count": 57,
   "metadata": {},
   "outputs": [
    {
     "data": {
      "text/plain": [
       "array([[ 0.        ,  9.9291353 , 11.38291144, ..., 10.01201508,\n",
       "        10.55961855,  9.92242343],\n",
       "       [ 9.9291353 ,  0.        ,  9.61035741, ...,  9.20687104,\n",
       "        11.66160642,  8.49849796],\n",
       "       [11.38291144,  9.61035741,  0.        , ..., 10.0875186 ,\n",
       "        12.84913017,  9.2051003 ],\n",
       "       ...,\n",
       "       [10.01201508,  9.20687104, 10.0875186 , ...,  0.        ,\n",
       "        11.16396066,  9.55097697],\n",
       "       [10.55961855, 11.66160642, 12.84913017, ..., 11.16396066,\n",
       "         0.        , 11.59539011],\n",
       "       [ 9.92242343,  8.49849796,  9.2051003 , ...,  9.55097697,\n",
       "        11.59539011,  0.        ]])"
      ]
     },
     "execution_count": 57,
     "metadata": {},
     "output_type": "execute_result"
    }
   ],
   "source": [
    "# Computing pairwise distance\n",
    "from sklearn.metrics.pairwise import euclidean_distances\n",
    "dist_mat = euclidean_distances(X_train)\n",
    "dist_mat"
   ]
  },
  {
   "cell_type": "code",
   "execution_count": 51,
   "metadata": {},
   "outputs": [
    {
     "data": {
      "text/plain": [
       "0.0"
      ]
     },
     "execution_count": 51,
     "metadata": {},
     "output_type": "execute_result"
    }
   ],
   "source": [
    "from sklearn.metrics import pairwise_distances\n",
    "from scipy.stats import mode\n",
    "import numpy as np\n",
    "\n",
    "class KNNClassifier:\n",
    "    def __init__(self, k):\n",
    "        self.k = k\n",
    "        self.train_x = None\n",
    "        self.train_y = None\n",
    "\n",
    "    def fit(self, X, y):\n",
    "        self.train_x = X\n",
    "        self.train_y = y\n",
    "\n",
    "    def score(self, X, y):\n",
    "        # Calculate pairwise distances between test and training data\n",
    "        distances = euclidean_distances(X, self.train_x)\n",
    "        \n",
    "        count = 0\n",
    "        for i in range(len(X)):\n",
    "            # Sort distances and get indices of the k nearest neighbors\n",
    "            indices = np.argsort(distances[i])[:self.k]\n",
    "            \n",
    "            # Get labels of the k nearest neighbors\n",
    "            k_labels = self.train_y[indices]\n",
    "            \n",
    "            # Ensure k_labels are numeric\n",
    "            k_labels_numeric = np.asarray(k_labels, dtype=float)\n",
    "\n",
    "            # Calculate the mode of k_labels\n",
    "            mode_result = mode(k_labels_numeric)\n",
    "\n",
    "            # Check if the mode_result is not empty and is an array\n",
    "            if isinstance(mode_result.mode, np.ndarray) and mode_result.mode.size > 0:\n",
    "                # Predict the class label based on the mode\n",
    "                pred = mode_result.mode[0]\n",
    "            else:\n",
    "                # Handle cases where mode is not as expected\n",
    "                pred = -1  # An invalid class label indicating an issue\n",
    "\n",
    "            # True label for the current test data point\n",
    "            true_y = y[i]\n",
    "            \n",
    "            # Check if the predicted label matches the true label\n",
    "            if pred == true_y:\n",
    "                count += 1\n",
    "\n",
    "        # Calculate accuracy as a percentage\n",
    "        accuracy = (count / len(X)) * 100\n",
    "        return accuracy\n",
    "\n",
    "# Example usage\n",
    "# knn_clf = KNNClassifier(k=10)\n",
    "# knn_clf.fit(X_train, y_train)\n",
    "# accuracy = knn_clf.score(X_test, y_test)\n",
    "# print(\"Accuracy:\", accuracy)\n",
    "knn_clf = KNNClassifier(k=10)\n",
    "knn_clf.fit(X_train, y_train)\n",
    "knn_clf.score(X_test, y_test)"
   ]
  },
  {
   "cell_type": "code",
   "execution_count": 60,
   "metadata": {},
   "outputs": [],
   "source": [
    "class KNNClassifier:\n",
    "    def __init__(self, k):\n",
    "        self.k = k\n",
    "        self.train_x = None\n",
    "        self.train_y = None\n",
    "\n",
    "    def fit(self, X, y):\n",
    "        self.train_x = X\n",
    "        self.train_y = y\n",
    "        \n",
    "    def score(self, X, y):\n",
    "    # Calculate pairwise distances between test and training data\n",
    "        distances = pairwise_distances(X, self.train_x)\n",
    "\n",
    "        count = 0\n",
    "        for i in range(len(X)):\n",
    "            # Sort distances and get indices of the k nearest neighbors\n",
    "            indices = np.argsort(distances[i])[:self.k]\n",
    "\n",
    "            # Get labels of the k nearest neighbors\n",
    "            k_labels = self.train_y[indices]\n",
    "\n",
    "            # Ensure k_labels are numeric\n",
    "            k_labels_numeric = np.asarray(k_labels, dtype=float)\n",
    "\n",
    "            # Calculate the mode of k_labels\n",
    "            mode_result = mode(k_labels_numeric)\n",
    "\n",
    "            # Extract the most common label\n",
    "            if isinstance(mode_result.mode, np.ndarray) and mode_result.mode.size > 0:\n",
    "                pred = mode_result.mode[0]\n",
    "            else:\n",
    "                # Handle cases where mode is not as expected\n",
    "                pred = -1  # An invalid class label or a default value\n",
    "\n",
    "            # True label for the current test data point\n",
    "            true_y = y[i]\n",
    "\n",
    "            # Check if the predicted label matches the true label\n",
    "            if pred == true_y:\n",
    "                count += 1\n",
    "\n",
    "        # Calculate accuracy as a percentage\n",
    "        accuracy = (count / len(X)) * 100\n",
    "        return accuracy\n"
   ]
  },
  {
   "cell_type": "code",
   "execution_count": 61,
   "metadata": {},
   "outputs": [
    {
     "ename": "IndexError",
     "evalue": "invalid index to scalar variable.",
     "output_type": "error",
     "traceback": [
      "\u001b[0;31m---------------------------------------------------------------------------\u001b[0m",
      "\u001b[0;31mIndexError\u001b[0m                                Traceback (most recent call last)",
      "\u001b[1;32m/Users/abhinavatp/Downloads/HWK1/PROB4.ipynb Cell 10\u001b[0m line \u001b[0;36m3\n\u001b[1;32m      <a href='vscode-notebook-cell:/Users/abhinavatp/Downloads/HWK1/PROB4.ipynb#X31sZmlsZQ%3D%3D?line=0'>1</a>\u001b[0m knn_clf \u001b[39m=\u001b[39m KNNClassifier(k\u001b[39m=\u001b[39m\u001b[39m10\u001b[39m)\n\u001b[1;32m      <a href='vscode-notebook-cell:/Users/abhinavatp/Downloads/HWK1/PROB4.ipynb#X31sZmlsZQ%3D%3D?line=1'>2</a>\u001b[0m knn_clf\u001b[39m.\u001b[39mfit(X_train, y_train)\n\u001b[0;32m----> <a href='vscode-notebook-cell:/Users/abhinavatp/Downloads/HWK1/PROB4.ipynb#X31sZmlsZQ%3D%3D?line=2'>3</a>\u001b[0m knn_clf\u001b[39m.\u001b[39;49mscore(X_test, y_test)\n",
      "\u001b[1;32m/Users/abhinavatp/Downloads/HWK1/PROB4.ipynb Cell 10\u001b[0m line \u001b[0;36m3\n\u001b[1;32m     <a href='vscode-notebook-cell:/Users/abhinavatp/Downloads/HWK1/PROB4.ipynb#X31sZmlsZQ%3D%3D?line=28'>29</a>\u001b[0m \u001b[39m# Extract the most common label\u001b[39;00m\n\u001b[1;32m     <a href='vscode-notebook-cell:/Users/abhinavatp/Downloads/HWK1/PROB4.ipynb#X31sZmlsZQ%3D%3D?line=29'>30</a>\u001b[0m \u001b[39mif\u001b[39;00m mode_result\u001b[39m.\u001b[39mcount\u001b[39m.\u001b[39msize \u001b[39m>\u001b[39m \u001b[39m0\u001b[39m:\n\u001b[0;32m---> <a href='vscode-notebook-cell:/Users/abhinavatp/Downloads/HWK1/PROB4.ipynb#X31sZmlsZQ%3D%3D?line=30'>31</a>\u001b[0m     pred \u001b[39m=\u001b[39m mode_result\u001b[39m.\u001b[39;49mmode[\u001b[39m0\u001b[39;49m]\n\u001b[1;32m     <a href='vscode-notebook-cell:/Users/abhinavatp/Downloads/HWK1/PROB4.ipynb#X31sZmlsZQ%3D%3D?line=31'>32</a>\u001b[0m \u001b[39melse\u001b[39;00m:\n\u001b[1;32m     <a href='vscode-notebook-cell:/Users/abhinavatp/Downloads/HWK1/PROB4.ipynb#X31sZmlsZQ%3D%3D?line=32'>33</a>\u001b[0m     \u001b[39m# Handle cases where mode is not as expected\u001b[39;00m\n\u001b[1;32m     <a href='vscode-notebook-cell:/Users/abhinavatp/Downloads/HWK1/PROB4.ipynb#X31sZmlsZQ%3D%3D?line=33'>34</a>\u001b[0m     pred \u001b[39m=\u001b[39m \u001b[39m-\u001b[39m\u001b[39m1\u001b[39m  \u001b[39m# An invalid class label\u001b[39;00m\n",
      "\u001b[0;31mIndexError\u001b[0m: invalid index to scalar variable."
     ]
    }
   ],
   "source": [
    "knn_clf = KNNClassifier(k=10)\n",
    "knn_clf.fit(X_train, y_train)\n",
    "knn_clf.score(X_test, y_test)\n",
    "\n"
   ]
  },
  {
   "cell_type": "code",
   "execution_count": null,
   "metadata": {},
   "outputs": [],
   "source": []
  }
 ],
 "metadata": {
  "kernelspec": {
   "display_name": "Python 3",
   "language": "python",
   "name": "python3"
  },
  "language_info": {
   "codemirror_mode": {
    "name": "ipython",
    "version": 3
   },
   "file_extension": ".py",
   "mimetype": "text/x-python",
   "name": "python",
   "nbconvert_exporter": "python",
   "pygments_lexer": "ipython3",
   "version": "3.11.5"
  }
 },
 "nbformat": 4,
 "nbformat_minor": 2
}

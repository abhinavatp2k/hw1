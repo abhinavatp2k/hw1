{
 "cells": [
  {
   "cell_type": "code",
   "execution_count": null,
   "metadata": {},
   "outputs": [],
   "source": [
    "# importing necessary packages\n",
    "import pandas as pd\n",
    "from collections import Counter, defaultdict\n",
    "import numpy as np\n",
    "import matplotlib.pyplot as plt"
   ]
  },
  {
   "cell_type": "code",
   "execution_count": null,
   "metadata": {},
   "outputs": [],
   "source": [
    "with open(\"../datasets/acm.txt\", 'r') as file:\n",
    "    lines = file.readlines()"
   ]
  },
  {
   "cell_type": "code",
   "execution_count": null,
   "metadata": {},
   "outputs": [],
   "source": [
    "data = []\n",
    "pub = None  
    "\n",
    "for line in lines:\n",
    "    if line[0:2] == \"#*\":  # Start of a new publication\n",
    "        if pub is not None:\n",
    "         
    "            data.append(pub)\n",
    "        # Initialize a new publication\n",
    "        pub = {\"title\": \"\", \"authors\": [], \"year\": \"\", \"venue\": \"\", \"id\": \"\", \"refs\": [], \"abstract\": \"\"}\n",
    "        pub['title'] = line[2:].strip()\n",
    "    elif line[0:2] == \"#@\" and pub is not None:\n",
    "        pub[\"authors\"] = line[2:].strip().split(\",\")\n",
    "    elif line[0:2] == \"#t\" and pub is not None:\n",
    "        pub[\"year\"] = line[2:].strip()\n",
    "    elif line[0:2] == \"#c\" and pub is not None:\n",
    "        pub[\"venue\"] = line[2:].strip()\n",
    "    elif line[0:2] == \"#%\" and pub is not None:\n",
    "        pub[\"refs\"].append(line[2:].strip())\n",
    "    elif line[0:2] == \"#!\" and pub is not None:\n",
    "        pub[\"abstract\"] = line[2:].strip()\n",
    "    elif line[0:2] == \"#i\" and pub is not None:\n",
    "        pub[\"id\"] = line[6:].strip()\n",
    "\n",
    "if pub is not None:\n",
    "    data.append(pub)\n"
   ]
  }
 ],
 "metadata": {
  "kernelspec": {
   "display_name": "Python 3",
   "language": "python",
   "name": "python3"
  },
  "language_info": {
   "name": "python",
   "version": "3.11.5"
  }
 },
 "nbformat": 4,
 "nbformat_minor": 2
}
